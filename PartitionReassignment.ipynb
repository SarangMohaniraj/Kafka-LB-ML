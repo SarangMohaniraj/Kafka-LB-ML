{
 "cells": [
  {
   "cell_type": "code",
   "execution_count": null,
   "id": "3c2f1d9d",
   "metadata": {},
   "outputs": [],
   "source": [
    "import docker\n",
    "import json\n",
    "import subprocess\n",
    "import os"
   ]
  },
  {
   "cell_type": "code",
   "execution_count": null,
   "id": "24eb6760",
   "metadata": {},
   "outputs": [],
   "source": [
    "def reassign_kafka_partitions(topics, broker_list, bootstrap_server):\n",
    "    #Generate JSON for topics\n",
    "    topics_json = {\"topics\": [{\"topic\": name} for name in topics], \"version\": 1}\n",
    "    topics_json_path = 'change_topics.json'\n",
    "    with open(topics_json_path, 'w') as file:\n",
    "        json.dump(topics_json, file, indent=2)\n",
    "    \n",
    "    generate_command = [\n",
    "        '/bin/kafka-reassign-partitions',\n",
    "        '--bootstrap-server', bootstrap_server,\n",
    "        '--topics-to-move-json-file', topics_json_path,\n",
    "        '--broker-list', broker_list,\n",
    "        '--generate'\n",
    "    ]\n",
    "    \n",
    "    try:\n",
    "        generate_output = subprocess.run(generate_command, check=True, text=True, capture_output=True)\n",
    "        proposed_config = generate_output.stdout.split(\"Proposed partition reassignment configuration:\")[-1]\n",
    "        proposed_config = proposed_config.split(\"Current partition replica assignment\")[0].strip()\n",
    "        \n",
    "        reassignment_json_path = 'reassignment.json'\n",
    "        with open(reassignment_json_path, 'w') as file:\n",
    "            file.write(proposed_config)\n",
    "        \n",
    "        execute_command = [\n",
    "            '/bin/kafka-reassign-partitions',\n",
    "            '--bootstrap-server', bootstrap_server,\n",
    "            '--reassignment-json-file', reassignment_json_path,\n",
    "            '--execute'\n",
    "        ]\n",
    "        \n",
    "        execute_output = subprocess.run(execute_command, check=True, text=True, capture_output=True)\n",
    "        if \"successfully\" in execute_output.stdout:\n",
    "            print(\"Partition reassignment succeeded.\")\n",
    "        else:\n",
    "            print(\"Partition reassignment failed.\")\n",
    "            print(execute_output.stdout)\n",
    "        \n",
    "    except subprocess.CalledProcessError as e:\n",
    "        print(f\"Command '{e.cmd}' returned non-zero exit status {e.returncode}.\")\n",
    "        print(e.output)\n",
    "    \n",
    "    finally:\n",
    "        #Cleanup\n",
    "        if os.path.exists(topics_json_path):\n",
    "            os.remove(topics_json_path)\n",
    "        if os.path.exists(reassignment_json_path):\n",
    "            os.remove(reassignment_json_path)"
   ]
  },
  {
   "cell_type": "code",
   "execution_count": null,
   "id": "a472b5b7",
   "metadata": {},
   "outputs": [],
   "source": [
    "#EXAMPLE USAGE\n",
    "reassign_kafka_partitions([\"topic1\", \"topic2\"], \"1,2,3\", \"localhost:9092\")"
   ]
  }
 ],
 "metadata": {
  "kernelspec": {
   "display_name": "Python 3 (ipykernel)",
   "language": "python",
   "name": "python3"
  },
  "language_info": {
   "codemirror_mode": {
    "name": "ipython",
    "version": 3
   },
   "file_extension": ".py",
   "mimetype": "text/x-python",
   "name": "python",
   "nbconvert_exporter": "python",
   "pygments_lexer": "ipython3",
   "version": "3.9.13"
  }
 },
 "nbformat": 4,
 "nbformat_minor": 5
}
